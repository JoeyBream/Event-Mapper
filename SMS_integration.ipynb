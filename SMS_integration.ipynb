{
 "cells": [
  {
   "cell_type": "code",
   "id": "initial_id",
   "metadata": {
    "ExecuteTime": {
     "end_time": "2025-09-02T17:43:35.951192Z",
     "start_time": "2025-09-02T17:43:35.522134Z"
    }
   },
   "source": [
    "from flask import Flask, request\n",
    "from twilio.rest import Client as TwilioClient\n",
    "from twilio.twiml.messaging_response import MessagingResponse\n",
    "import threading\n",
    "import os\n",
    "from dotenv import load_dotenv\n",
    "from pyngrok import ngrok\n",
    "import requests\n",
    "from datetime import datetime\n"
   ],
   "outputs": [],
   "execution_count": 1
  },
  {
   "metadata": {
    "ExecuteTime": {
     "end_time": "2025-09-02T17:43:41.300822Z",
     "start_time": "2025-09-02T17:43:35.957586Z"
    }
   },
   "cell_type": "code",
   "source": [
    "# Run event_recommender\n",
    "%run event_recommender.ipynb\n",
    "\n",
    "# Load environment variables\n",
    "load_dotenv()\n",
    "\n",
    "# Initialize clients\n",
    "GROQ_API_KEY = os.getenv('GROQ_API_KEY')\n",
    "GROQ_API_URL = \"https://api.groq.com/openai/v1/chat/completions\""
   ],
   "id": "fdf12f319e8e3398",
   "outputs": [
    {
     "name": "stdout",
     "output_type": "stream",
     "text": [
      "First event keys: ['Event name', 'Date', 'Start Time', 'Artists', 'Venue', 'Number of guests attending', 'Event URL']\n",
      "First event data: {'Event name': \"NT's Loft 10th Birthday: Free Rooftop Party\", 'Date': '2025-09-06T00:00:00+00:00', 'Start Time': '2025-09-06T12:00:00+00:00', 'Artists': \"Alec Falconer, Alexander Nut, Ariane V, Charlie Dark, Dean Bryce, Ella Knight, Finn, Jive Talk, Lulah Francs, Madelic, Sam Bangura, Scarlett O'Malley, Silverlining, Swoose, ANLON, Danny Vito, Hannah Lamb, Sharon Khan\", 'Venue': 'Night Tales Loft', 'Number of guests attending': 4701, 'Event URL': '/events/2223095'}\n",
      "• NT's Loft 10th Birthday: Free Rooftop Party (2025-09-06T00:00:00+00:00) @ Night Tales Loft - Alec Falconer, Alexander Nut, Ariane V, Charlie Da (4701 going) | https://ra.co/events/2223095\n",
      "• Ancestorz - The Free Afro house Day party (2025-09-07T00:00:00+00:00) @ Pop Brixton (2062 going) | https://ra.co/events/2218870\n",
      "• Jungle Splash (2025-09-05T00:00:00+00:00) @ Brixton Jamm - Potential Badboy, Uncle Dugs, Nicky Blackmarket, T (1522 going) | https://ra.co/events/2231466\n",
      "• FOLD X MALA JUNTA (EXTENDED) (2025-09-06T00:00:00+00:00) @ FOLD - Alba Heidari, Bessie-Mae, DJ OT, D.Dan, Debbie., D (1444 going) | https://ra.co/events/2207499\n",
      "• Bakermat's Circus - Summer open air show (2025-09-06T00:00:00+00:00) @ The Cause - Bakermat, Ferreck Dawn, Josh Parkinson, Jules Came (914 going) | https://ra.co/events/2185693\n",
      "• Free Railway Arch Party: Noel Minitel (UK Club Debut) (2025-09-05T00:00:00+00:00) @ Corsica Studios - Betty, Slidge, Guido YZ, Hardcore Babes, Krunx, NE (908 going) | https://ra.co/events/2237066\n",
      "• Azyr & AISHA (2025-09-05T00:00:00+00:00) @ E1 - Azyr, AISHA, MARIEEEA, Shugah, Lezcano, ØC (846 going) | https://ra.co/events/2204126\n",
      "• A Day with Laurence Guy [All Day Long] (2025-09-06T00:00:00+00:00) @ Night Tales - Laurence Guy (839 going) | https://ra.co/events/2219939\n",
      "• KOKO Electronic: Chris Lake (2025-09-05T00:00:00+00:00) @ KOKO - Chris Lake, NenaHalena, Eluize (818 going) | https://ra.co/events/2221054\n",
      "• LE TEMPLE BERLIN: Genre Bender [Free Entry*] (2025-09-06T00:00:00+00:00) @ Colour Factory - LEXII., CatMint, Reita D Russo (622 going) | https://ra.co/events/2196594\n",
      "• Travs Presents: Neffa-T, Novelist, Window Kid, Sox, Plastician, Just Jane, Mak10 + More (2025-09-05T00:00:00+00:00) @ Colour Factory - Neffa-T, Novelist, Window Kid, Flirta D, Plasticia (540 going) | https://ra.co/events/2226057\n",
      "• Loud Places 2025 (2025-09-05T00:00:00+00:00) @ TBA - Sussex (location sent to ticket holders). - Kitsta, DMC., Aerofunk, Ed Birrell, Ruby SD, CESKA (539 going) | https://ra.co/events/2078882\n",
      "• Warmer People x Dour Festival - Odymel, Shlømo, Sarah Sommers, Next Door Records + more (2025-09-05T00:00:00+00:00) @ fabric - Odymel, Shlømo, Sarah Sommers, Nathan Colinet, Sur (436 going) | https://ra.co/events/2202903\n",
      "• SlapFunk Records X 93 Feet East (2025-09-06T00:00:00+00:00) @ 93 Feet East - Samuel Deep, DJ Senc, Mella Dee, Wax Material, Jac (429 going) | https://ra.co/events/2219374\n",
      "• Jersey & FRIENDS (2025-09-06T00:00:00+00:00) @ E1 - Jersey, Luca Eck, Megra (423 going) | https://ra.co/events/2209649\n",
      "• Boudica 6th Bday [Main Room]: Nene H, Spikey Lee, Samantha Togni, J. Aria, Karlie Marx  (2025-09-05T00:00:00+00:00) @ FOLD - J. Aria, Karlie Marx, Nene H, Samantha Togni, Spik (405 going) | https://ra.co/events/2195143\n",
      "• AC 6th Birthday Boat Party + Venue MOT (2025-09-06T00:00:00+00:00) @ M.O.T - Alien Communications, De La Reef, Ellie Stokes, Jo (388 going) | https://ra.co/events/2113225\n",
      "• DISCO TEHRAN IN LONDON (2025-09-05T00:00:00+00:00) @ Night Tales - Milli, Liminal People (381 going) | https://ra.co/events/2211632\n",
      "• KOKO Electronic: Stephan Jolk, Alan Dixon (2025-09-06T00:00:00+00:00) @ KOKO - Stephan Jolk, Alan Dixon, JANE RYSE (359 going) | https://ra.co/events/2217164\n",
      "• Origins: DAR DISKU, Tarzsa, Cheb Mimo & Shen (2025-09-06T00:00:00+00:00) @ Colour Factory - DAR DISKU, Tarzsa, Cheb Mimo, Shen (2) (349 going) | https://ra.co/events/2205052\n",
      "🎵 Event Recommender Test 🎵\n",
      "\n",
      "Fetching events from database...\n",
      "Found 30 events\n",
      "\n",
      "--- Test 1: 'I want to see some techno this weekend' ---\n",
      "Recommendation:\n",
      "Techno this weekend? How about Jungle Splash in Brixton on Friday?\n",
      "\n",
      "--------------------------------------------------\n",
      "\n"
     ]
    }
   ],
   "execution_count": 2
  },
  {
   "metadata": {
    "ExecuteTime": {
     "end_time": "2025-09-02T17:43:41.311469Z",
     "start_time": "2025-09-02T17:43:41.300822Z"
    }
   },
   "cell_type": "code",
   "source": [
    "# Twilio credentials\n",
    "TWILIO_ACCOUNT_SID = os.getenv('TWILIO_ACCOUNT_SID')\n",
    "TWILIO_AUTH_TOKEN = os.getenv('TWILIO_AUTH_TOKEN')\n",
    "twilio_client = TwilioClient(TWILIO_ACCOUNT_SID, TWILIO_AUTH_TOKEN)"
   ],
   "id": "a816b24c5d5ac70d",
   "outputs": [],
   "execution_count": 3
  },
  {
   "metadata": {
    "ExecuteTime": {
     "end_time": "2025-09-02T17:43:41.337425Z",
     "start_time": "2025-09-02T17:43:41.311469Z"
    }
   },
   "cell_type": "code",
   "source": [
    "\n",
    "# User context storage (in production, use a database)\n",
    "user_contexts = {}\n",
    "\n",
    "# Create Flask app\n",
    "app = Flask(__name__)\n",
    "\n",
    "def get_user_context(phone_number):\n",
    "    \"\"\"Manage user conversation context\"\"\"\n",
    "    if phone_number not in user_contexts:\n",
    "        user_contexts[phone_number] = {\n",
    "            'conversation_history': [],\n",
    "            'preferred_genres': [],\n",
    "            'first_interaction': True,\n",
    "            'last_active': datetime.now()\n",
    "        }\n",
    "    return user_contexts[phone_number]\n",
    "\n",
    "def extract_genres_from_message(message):\n",
    "    \"\"\"Extract music genres mentioned in the message\"\"\"\n",
    "    genres = []\n",
    "    genre_keywords = {\n",
    "        'techno': ['techno', 'tech'],\n",
    "        'house': ['house', 'deep house', 'tech house'],\n",
    "        'drum and bass': ['dnb', 'drum and bass', 'jungle'],\n",
    "        'dubstep': ['dubstep', 'bass'],\n",
    "        'trance': ['trance', 'progressive'],\n",
    "        'ambient': ['ambient', 'chill'],\n",
    "        'breakbeat': ['breaks', 'breakbeat']\n",
    "    }\n",
    "\n",
    "    message_lower = message.lower()\n",
    "    for genre, keywords in genre_keywords.items():\n",
    "        if any(keyword in message_lower for keyword in keywords):\n",
    "            genres.append(genre)\n",
    "\n",
    "    return genres\n",
    "\n",
    "@app.route('/webhook/whatsapp', methods=['POST'])\n",
    "def handle_whatsapp():\n",
    "    \"\"\"Handle incoming WhatsApp messages\"\"\"\n",
    "    from_number = request.form['From']  # Will be like 'whatsapp:+447123456789'\n",
    "    message_body = request.form['Body'].strip()\n",
    "\n",
    "    print(f\"💬 WhatsApp from {from_number}: {message_body}\")\n",
    "\n",
    "    # Get user context (clean the whatsapp: prefix for storage)\n",
    "    clean_number = from_number.replace('whatsapp:', '')\n",
    "    context = get_user_context(clean_number)\n",
    "\n",
    "    # Update conversation history\n",
    "    context['conversation_history'].append(f\"User: {message_body}\")\n",
    "    context['last_active'] = datetime.now()\n",
    "\n",
    "    # Extract and store genre preferences\n",
    "    mentioned_genres = extract_genres_from_message(message_body)\n",
    "    for genre in mentioned_genres:\n",
    "        if genre not in context['preferred_genres']:\n",
    "            context['preferred_genres'].append(genre)\n",
    "\n",
    "    try:\n",
    "        # Get events from your database\n",
    "        events = get_upcoming_events()  # Your existing function\n",
    "\n",
    "        if not events:\n",
    "            response_text = \"Hey! I don't see any events right now. Check back later! 🎵\"\n",
    "        else:\n",
    "            # Format events for LLM\n",
    "            events_text = format_events_for_llm(events)\n",
    "\n",
    "            # Generate recommendation\n",
    "            response_text = generate_recommendations(message_body, events_text, context)\n",
    "\n",
    "        # Update conversation history\n",
    "        context['conversation_history'].append(f\"Assistant: {response_text}\")\n",
    "        context['first_interaction'] = False\n",
    "\n",
    "        # Keep history manageable\n",
    "        if len(context['conversation_history']) > 10:\n",
    "            context['conversation_history'] = context['conversation_history'][-10:]\n",
    "\n",
    "    except Exception as e:\n",
    "        print(f\"❌ Error processing message: {e}\")\n",
    "        response_text = \"Oops! Something went wrong. Let me try that again! 🤖\"\n",
    "\n",
    "    # Create TwiML response for WhatsApp\n",
    "    resp = MessagingResponse()\n",
    "    resp.message(response_text)\n",
    "\n",
    "    print(f\"🤖 WhatsApp Response: {response_text[:100]}...\")\n",
    "    return str(resp)\n",
    "\n",
    "@app.route('/webhook/status', methods=['POST'])\n",
    "def handle_status():\n",
    "    \"\"\"Handle delivery status updates (optional)\"\"\"\n",
    "    message_sid = request.form.get('MessageSid')\n",
    "    message_status = request.form.get('MessageStatus')\n",
    "    print(f\"📊 Message {message_sid} status: {message_status}\")\n",
    "    return '', 200"
   ],
   "id": "41395643403fe80a",
   "outputs": [],
   "execution_count": 4
  },
  {
   "metadata": {
    "jupyter": {
     "is_executing": true
    },
    "ExecuteTime": {
     "start_time": "2025-09-02T17:43:41.344920Z"
    }
   },
   "cell_type": "code",
   "source": [
    "def start_server():\n",
    "    print(\"🚀 Starting Flask server...\")\n",
    "    print(\"🌐 Server running on localhost:5000\")\n",
    "    print(\"📱 Using existing ngrok tunnel\")\n",
    "    app.run(host='0.0.0.0', port=5000, debug=False, use_reloader=False)\n",
    "# Usage in Jupyter:\n",
    "# 1. Make sure you have get_upcoming_events() function available\n",
    "# 2. Set your API keys\n",
    "# 3. Run: start_whatsapp_server_simple()\n",
    "# 4. Configure the ngrok URL in Twilio WhatsApp console\n",
    "# 5. Join the sandbox and text your WhatsApp!\n",
    "\n",
    "if __name__ == \"__main__\":\n",
    "    start_server()"
   ],
   "id": "e8d2101eac671409",
   "outputs": [
    {
     "name": "stdout",
     "output_type": "stream",
     "text": [
      "🚀 Starting Flask server...\n",
      "🌐 Server running on localhost:5000\n",
      "📱 Using existing ngrok tunnel\n",
      " * Serving Flask app '__main__'\n",
      " * Debug mode: off\n"
     ]
    },
    {
     "name": "stderr",
     "output_type": "stream",
     "text": [
      "WARNING: This is a development server. Do not use it in a production deployment. Use a production WSGI server instead.\n",
      " * Running on all addresses (0.0.0.0)\n",
      " * Running on http://127.0.0.1:5000\n",
      " * Running on http://192.168.68.54:5000\n",
      "Press CTRL+C to quit\n"
     ]
    }
   ],
   "execution_count": null
  },
  {
   "metadata": {
    "ExecuteTime": {
     "end_time": "2025-09-02T17:43:31.539298400Z",
     "start_time": "2025-09-02T17:26:50.048575Z"
    }
   },
   "cell_type": "code",
   "source": "",
   "id": "228b25967df52072",
   "outputs": [],
   "execution_count": null
  }
 ],
 "metadata": {
  "kernelspec": {
   "display_name": "Python 3",
   "language": "python",
   "name": "python3"
  },
  "language_info": {
   "codemirror_mode": {
    "name": "ipython",
    "version": 2
   },
   "file_extension": ".py",
   "mimetype": "text/x-python",
   "name": "python",
   "nbconvert_exporter": "python",
   "pygments_lexer": "ipython2",
   "version": "2.7.6"
  }
 },
 "nbformat": 4,
 "nbformat_minor": 5
}

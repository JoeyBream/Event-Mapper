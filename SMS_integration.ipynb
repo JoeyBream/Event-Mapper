{
 "cells": [
  {
   "cell_type": "code",
   "id": "initial_id",
   "metadata": {
    "ExecuteTime": {
     "end_time": "2025-09-02T16:55:20.286221Z",
     "start_time": "2025-09-02T16:55:20.000943Z"
    }
   },
   "source": [
    "from flask import Flask, request\n",
    "from twilio.rest import Client as TwilioClient\n",
    "from twilio.twiml.messaging_response import MessagingResponse\n",
    "import threading\n",
    "import os\n",
    "from dotenv import load_dotenv\n",
    "from pyngrok import ngrok\n",
    "import requests\n",
    "from datetime import datetime\n"
   ],
   "outputs": [],
   "execution_count": 3
  },
  {
   "metadata": {
    "ExecuteTime": {
     "end_time": "2025-09-02T16:54:41.802721Z",
     "start_time": "2025-09-02T16:54:33.609544Z"
    }
   },
   "cell_type": "code",
   "source": [
    "# Run event_recommender\n",
    "%run event_recommender.ipynb\n",
    "\n",
    "# Load environment variables\n",
    "load_dotenv()\n",
    "\n",
    "# Initialize clients\n",
    "GROQ_API_KEY = os.getenv('GROQ_API_KEY')\n",
    "GROQ_API_URL = \"https://api.groq.com/openai/v1/chat/completions\""
   ],
   "id": "fdf12f319e8e3398",
   "outputs": [
    {
     "name": "stdout",
     "output_type": "stream",
     "text": [
      "🎵 Event Recommender Test 🎵\n",
      "\n",
      "Fetching events from database...\n",
      "Found 13 events\n",
      "\n",
      "--- Test 1: 'I want to see some techno this weekend' ---\n",
      "Recommendation:\n",
      "Techno this weekend, sounds like a plan! 🐨 What kind of techno vibe are you in the mood for? More underground and raw or something a bit more high-energy?\n",
      "\n",
      "--------------------------------------------------\n",
      "\n",
      "--- Test 2: 'Looking for house music events next week' ---\n",
      "Recommendation:\n",
      "Hey! So you're looking for some house music events next week? 🐨 What's your vibe? Are you in the mood for something deep and chill or more energetic and dancey?\n",
      "\n",
      "--------------------------------------------------\n",
      "\n",
      "--- Test 3: 'What's on tonight?' ---\n",
      "Recommendation:\n",
      "What's on tonight, eh? 🐨 I can help you find something cool to check out in London. What kind of vibe are you in the mood for? A big club night or something a bit more low-key?\n",
      "\n",
      "--------------------------------------------------\n",
      "\n",
      "--- Test 4: 'I like melodic electronic music' ---\n",
      "Recommendation:\n",
      "Melodic electronic music, nice! 🐨 What kind of vibe are you in the mood for? More chill and relaxing or something a bit more energetic?\n",
      "\n",
      "--------------------------------------------------\n",
      "\n"
     ]
    }
   ],
   "execution_count": 1
  },
  {
   "metadata": {
    "ExecuteTime": {
     "end_time": "2025-09-02T16:44:22.119959900Z",
     "start_time": "2025-09-02T16:41:23.771310Z"
    }
   },
   "cell_type": "code",
   "source": [
    "# Twilio credentials\n",
    "TWILIO_ACCOUNT_SID = os.getenv('TWILIO_ACCOUNT_SID')\n",
    "TWILIO_AUTH_TOKEN = os.getenv('TWILIO_AUTH_TOKEN')\n",
    "twilio_client = TwilioClient(TWILIO_ACCOUNT_SID, TWILIO_AUTH_TOKEN)"
   ],
   "id": "a816b24c5d5ac70d",
   "outputs": [],
   "execution_count": 3
  },
  {
   "metadata": {
    "ExecuteTime": {
     "end_time": "2025-09-02T16:55:22.473314Z",
     "start_time": "2025-09-02T16:55:22.455581Z"
    }
   },
   "cell_type": "code",
   "source": [
    "\n",
    "# User context storage (in production, use a database)\n",
    "user_contexts = {}\n",
    "\n",
    "# Create Flask app\n",
    "app = Flask(__name__)\n",
    "\n",
    "def get_user_context(phone_number):\n",
    "    \"\"\"Manage user conversation context\"\"\"\n",
    "    if phone_number not in user_contexts:\n",
    "        user_contexts[phone_number] = {\n",
    "            'conversation_history': [],\n",
    "            'preferred_genres': [],\n",
    "            'first_interaction': True,\n",
    "            'last_active': datetime.now()\n",
    "        }\n",
    "    return user_contexts[phone_number]\n",
    "\n",
    "def extract_genres_from_message(message):\n",
    "    \"\"\"Extract music genres mentioned in the message\"\"\"\n",
    "    genres = []\n",
    "    genre_keywords = {\n",
    "        'techno': ['techno', 'tech'],\n",
    "        'house': ['house', 'deep house', 'tech house'],\n",
    "        'drum and bass': ['dnb', 'drum and bass', 'jungle'],\n",
    "        'dubstep': ['dubstep', 'bass'],\n",
    "        'trance': ['trance', 'progressive'],\n",
    "        'ambient': ['ambient', 'chill'],\n",
    "        'breakbeat': ['breaks', 'breakbeat']\n",
    "    }\n",
    "\n",
    "    message_lower = message.lower()\n",
    "    for genre, keywords in genre_keywords.items():\n",
    "        if any(keyword in message_lower for keyword in keywords):\n",
    "            genres.append(genre)\n",
    "\n",
    "    return genres\n",
    "\n",
    "@app.route('/webhook/whatsapp', methods=['POST'])\n",
    "def handle_whatsapp():\n",
    "    \"\"\"Handle incoming WhatsApp messages\"\"\"\n",
    "    from_number = request.form['From']  # Will be like 'whatsapp:+447123456789'\n",
    "    message_body = request.form['Body'].strip()\n",
    "\n",
    "    print(f\"💬 WhatsApp from {from_number}: {message_body}\")\n",
    "\n",
    "    # Get user context (clean the whatsapp: prefix for storage)\n",
    "    clean_number = from_number.replace('whatsapp:', '')\n",
    "    context = get_user_context(clean_number)\n",
    "\n",
    "    # Update conversation history\n",
    "    context['conversation_history'].append(f\"User: {message_body}\")\n",
    "    context['last_active'] = datetime.now()\n",
    "\n",
    "    # Extract and store genre preferences\n",
    "    mentioned_genres = extract_genres_from_message(message_body)\n",
    "    for genre in mentioned_genres:\n",
    "        if genre not in context['preferred_genres']:\n",
    "            context['preferred_genres'].append(genre)\n",
    "\n",
    "    try:\n",
    "        # Get events from your database\n",
    "        events = get_upcoming_events()  # Your existing function\n",
    "\n",
    "        if not events:\n",
    "            response_text = \"Hey! I don't see any events right now. Check back later! 🎵\"\n",
    "        else:\n",
    "            # Format events for LLM\n",
    "            events_text = format_events_for_llm(events)\n",
    "\n",
    "            # Generate recommendation\n",
    "            response_text = generate_recommendations(message_body, events_text, context)\n",
    "\n",
    "        # Update conversation history\n",
    "        context['conversation_history'].append(f\"Assistant: {response_text}\")\n",
    "        context['first_interaction'] = False\n",
    "\n",
    "        # Keep history manageable\n",
    "        if len(context['conversation_history']) > 10:\n",
    "            context['conversation_history'] = context['conversation_history'][-10:]\n",
    "\n",
    "    except Exception as e:\n",
    "        print(f\"❌ Error processing message: {e}\")\n",
    "        response_text = \"Oops! Something went wrong. Let me try that again! 🤖\"\n",
    "\n",
    "    # Create TwiML response for WhatsApp\n",
    "    resp = MessagingResponse()\n",
    "    resp.message(response_text)\n",
    "\n",
    "    print(f\"🤖 WhatsApp Response: {response_text[:100]}...\")\n",
    "    return str(resp)\n",
    "\n",
    "@app.route('/webhook/status', methods=['POST'])\n",
    "def handle_status():\n",
    "    \"\"\"Handle delivery status updates (optional)\"\"\"\n",
    "    message_sid = request.form.get('MessageSid')\n",
    "    message_status = request.form.get('MessageStatus')\n",
    "    print(f\"📊 Message {message_sid} status: {message_status}\")\n",
    "    return '', 200"
   ],
   "id": "41395643403fe80a",
   "outputs": [],
   "execution_count": 4
  },
  {
   "metadata": {
    "jupyter": {
     "is_executing": true
    },
    "ExecuteTime": {
     "start_time": "2025-09-02T16:55:25.654435Z"
    }
   },
   "cell_type": "code",
   "source": [
    "def start_server():\n",
    "    print(\"🚀 Starting Flask server...\")\n",
    "    print(\"🌐 Server running on localhost:5000\")\n",
    "    print(\"📱 Using existing ngrok tunnel\")\n",
    "    app.run(host='0.0.0.0', port=5000, debug=False, use_reloader=False)\n",
    "# Usage in Jupyter:\n",
    "# 1. Make sure you have get_upcoming_events() function available\n",
    "# 2. Set your API keys\n",
    "# 3. Run: start_whatsapp_server_simple()\n",
    "# 4. Configure the ngrok URL in Twilio WhatsApp console\n",
    "# 5. Join the sandbox and text your WhatsApp!\n",
    "\n",
    "if __name__ == \"__main__\":\n",
    "    start_server()"
   ],
   "id": "e8d2101eac671409",
   "outputs": [
    {
     "name": "stdout",
     "output_type": "stream",
     "text": [
      "🚀 Starting Flask server...\n",
      "🌐 Server running on localhost:5000\n",
      "📱 Using existing ngrok tunnel\n",
      " * Serving Flask app '__main__'\n",
      " * Debug mode: off\n"
     ]
    },
    {
     "name": "stderr",
     "output_type": "stream",
     "text": [
      "WARNING: This is a development server. Do not use it in a production deployment. Use a production WSGI server instead.\n",
      " * Running on all addresses (0.0.0.0)\n",
      " * Running on http://127.0.0.1:5000\n",
      " * Running on http://192.168.68.54:5000\n",
      "Press CTRL+C to quit\n"
     ]
    }
   ],
   "execution_count": null
  },
  {
   "metadata": {},
   "cell_type": "code",
   "outputs": [],
   "execution_count": null,
   "source": "",
   "id": "228b25967df52072"
  }
 ],
 "metadata": {
  "kernelspec": {
   "display_name": "Python 3",
   "language": "python",
   "name": "python3"
  },
  "language_info": {
   "codemirror_mode": {
    "name": "ipython",
    "version": 2
   },
   "file_extension": ".py",
   "mimetype": "text/x-python",
   "name": "python",
   "nbconvert_exporter": "python",
   "pygments_lexer": "ipython2",
   "version": "2.7.6"
  }
 },
 "nbformat": 4,
 "nbformat_minor": 5
}

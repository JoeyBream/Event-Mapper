{
 "cells": [
  {
   "cell_type": "code",
   "id": "initial_id",
   "metadata": {
    "collapsed": true,
    "ExecuteTime": {
     "end_time": "2025-08-27T18:23:19.493033Z",
     "start_time": "2025-08-27T18:23:19.465139Z"
    }
   },
   "source": [
    "import os\n",
    "import requests\n",
    "from supabase import create_client, Client\n",
    "from dotenv import load_dotenv\n",
    "from datetime import datetime, timedelta"
   ],
   "outputs": [],
   "execution_count": 6
  },
  {
   "metadata": {
    "ExecuteTime": {
     "end_time": "2025-08-27T18:23:20.281835Z",
     "start_time": "2025-08-27T18:23:19.513367Z"
    }
   },
   "cell_type": "code",
   "source": [
    "# Load environment variables\n",
    "load_dotenv()\n",
    "\n",
    "# Initialize clients\n",
    "GROQ_API_KEY = os.getenv('GROQ_API_KEY')\n",
    "GROQ_API_URL = \"https://api.groq.com/openai/v1/chat/completions\"\n",
    "\n",
    "supabase_url = os.getenv('SUPABASE_URL')\n",
    "supabase_key = os.getenv('SUPABASE_ANON_KEY')\n",
    "supabase: Client = create_client(supabase_url, supabase_key)\n"
   ],
   "id": "61a6ba3b12a339d0",
   "outputs": [],
   "execution_count": 7
  },
  {
   "metadata": {
    "ExecuteTime": {
     "end_time": "2025-08-27T18:23:20.297276Z",
     "start_time": "2025-08-27T18:23:20.286580Z"
    }
   },
   "cell_type": "code",
   "source": [
    "def get_upcoming_events(days_ahead=7, limit=50):\n",
    "    \"\"\"\n",
    "    Fetch upcoming events from Supabase\n",
    "    \"\"\"\n",
    "    try:\n",
    "        # Calculate date range\n",
    "        start_date = datetime.now().strftime('%Y-%m-%d')\n",
    "        end_date = (datetime.now() + timedelta(days=days_ahead)).strftime('%Y-%m-%d')\n",
    "        \n",
    "        # Query Supabase using correct column names\n",
    "        result = supabase.table('resident_advisor')\\\n",
    "            .select('*')\\\n",
    "            .gte('Date', start_date)\\\n",
    "            .lte('Date', end_date)\\\n",
    "            .limit(limit)\\\n",
    "            .execute()\n",
    "        \n",
    "        return result.data\n",
    "    except Exception as e:\n",
    "        print(f\"Error fetching events: {e}\")\n",
    "        return []\n"
   ],
   "id": "6ff2ffb523472053",
   "outputs": [],
   "execution_count": 8
  },
  {
   "metadata": {
    "ExecuteTime": {
     "end_time": "2025-08-27T18:23:20.313285Z",
     "start_time": "2025-08-27T18:23:20.305077Z"
    }
   },
   "cell_type": "code",
   "source": [
    "def format_events_for_llm(events):\n",
    "    \"\"\"\n",
    "    Format events data for the LLM prompt\n",
    "    \"\"\"\n",
    "    if not events:\n",
    "        return \"No events found for the specified dates.\"\n",
    "    \n",
    "    formatted_events = []\n",
    "    for event in events[:30]:  # Limit to avoid token limits\n",
    "        # Using correct column names: Artists, Venue, Event name, Date\n",
    "        event_text = f\"• {event.get('Event name', 'N/A')}\"\n",
    "        if event.get('Date'):\n",
    "            event_text += f\" - {event.get('Date')}\"\n",
    "        if event.get('Venue'):\n",
    "            event_text += f\" at {event.get('Venue')}\"\n",
    "        if event.get('Artists'):\n",
    "            event_text += f\" | Artists: {event.get('Artists')}\"\n",
    "        formatted_events.append(event_text)\n",
    "    \n",
    "    return \"\\n\".join(formatted_events)\n"
   ],
   "id": "e692a2f897713eb4",
   "outputs": [],
   "execution_count": 9
  },
  {
   "metadata": {
    "ExecuteTime": {
     "end_time": "2025-08-27T18:23:20.331335Z",
     "start_time": "2025-08-27T18:23:20.324463Z"
    }
   },
   "cell_type": "code",
   "source": [
    "def generate_recommendations(user_request, events_data):\n",
    "    \"\"\"\n",
    "    Use Groq to generate event recommendations\n",
    "    \"\"\"\n",
    "    prompt = f\"\"\"You are a helpful event recommender. A user has made this request: \"{user_request}\"\n",
    "\n",
    "Here are the upcoming electronic music events in London:\n",
    "\n",
    "{events_data}\n",
    "\n",
    "Based on the user's request, please recommend 3-5 of the most suitable events. For each recommendation:\n",
    "- Include the event name, date, and venue\n",
    "- Briefly explain why it matches their request\n",
    "- Keep it conversational and enthusiastic\n",
    "- If no events perfectly match, recommend the closest alternatives\n",
    "\n",
    "Format your response as a friendly text message (like an SMS).\"\"\"\n",
    "\n",
    "    try:\n",
    "        headers = {\n",
    "            \"Content-Type\": \"application/json\",\n",
    "            \"Authorization\": f\"Bearer {GROQ_API_KEY}\"\n",
    "        }\n",
    "        \n",
    "        data = {\n",
    "            \"model\": \"meta-llama/llama-4-scout-17b-16e-instruct\",\n",
    "            \"messages\": [\n",
    "                {\"role\": \"system\", \"content\": \"You are a knowledgeable electronic music event recommender.\"},\n",
    "                {\"role\": \"user\", \"content\": prompt}\n",
    "            ],\n",
    "            \"max_tokens\": 500,\n",
    "            \"temperature\": 0.7\n",
    "        }\n",
    "        \n",
    "        response = requests.post(GROQ_API_URL, headers=headers, json=data)\n",
    "        response.raise_for_status()\n",
    "        \n",
    "        return response.json()[\"choices\"][0][\"message\"][\"content\"]\n",
    "    except Exception as e:\n",
    "        return f\"Error generating recommendations: {e}\"\n"
   ],
   "id": "a0412825f719199c",
   "outputs": [],
   "execution_count": 10
  },
  {
   "metadata": {
    "ExecuteTime": {
     "end_time": "2025-08-27T18:23:20.350168Z",
     "start_time": "2025-08-27T18:23:20.343115Z"
    }
   },
   "cell_type": "code",
   "source": [
    "def main():\n",
    "    \"\"\"\n",
    "    Main function to test the recommender\n",
    "    \"\"\"\n",
    "    print(\"🎵 Event Recommender Test 🎵\\n\")\n",
    "    \n",
    "    # Test user requests\n",
    "    test_requests = [\n",
    "        \"I want to see some techno this weekend\",\n",
    "        \"Looking for house music events next week\",\n",
    "        \"What's on tonight?\",\n",
    "        \"I like melodic electronic music\"\n",
    "    ]\n",
    "    \n",
    "    # Fetch events\n",
    "    print(\"Fetching events from database...\")\n",
    "    events = get_upcoming_events()\n",
    "    print(f\"Found {len(events)} events\\n\")\n",
    "    \n",
    "    if not events:\n",
    "        print(\"No events found. Check your database connection and data.\")\n",
    "        return\n",
    "    \n",
    "    # Format events for LLM\n",
    "    events_text = format_events_for_llm(events)\n",
    "    \n",
    "    # Test each request\n",
    "    for i, request in enumerate(test_requests, 1):\n",
    "        print(f\"--- Test {i}: '{request}' ---\")\n",
    "        \n",
    "        recommendation = generate_recommendations(request, events_text)\n",
    "        print(f\"Recommendation:\\n{recommendation}\\n\")\n",
    "        print(\"-\" * 50 + \"\\n\")\n"
   ],
   "id": "425d51de781ef46e",
   "outputs": [],
   "execution_count": 11
  },
  {
   "metadata": {
    "jupyter": {
     "is_executing": true
    },
    "ExecuteTime": {
     "start_time": "2025-08-27T18:23:20.362593Z"
    }
   },
   "cell_type": "code",
   "source": [
    "if __name__ == \"__main__\":\n",
    "    main()"
   ],
   "id": "31b8667b645c4e9d",
   "outputs": [
    {
     "name": "stdout",
     "output_type": "stream",
     "text": [
      "🎵 Event Recommender Test 🎵\n",
      "\n",
      "Fetching events from database...\n",
      "Found 50 events\n",
      "\n",
      "--- Test 1: 'I want to see some techno this weekend' ---\n",
      "Recommendation:\n",
      "\"Hey! I've got some awesome techno event recs for you this weekend! \n",
      "\n",
      "1. PARADOX on 27th Aug at XOYO - This one's a great fit! It's a techno event featuring D1 x Samir (DVS), DEFILE, and Suly Aslan.\n",
      "\n",
      "2. OPEN DECKS on 27th Aug at Planet Wax - This event is all about techno and seems like a fantastic opportunity to discover new artists.\n",
      "\n",
      "3. Techno In London - Open Decks & Social on 28th Aug at Club Makossa - This event is specifically focused on techno and features Carlos Martinez and JFOX.\n",
      "\n",
      "4. Lolahol on 27th Aug at Ormside Projects - Although not explicitly labeled as techno, Lolahol often features techno and experimental sounds, so it might be worth checking out!\n",
      "\n",
      "Hope you find something that gets you dancing!\"\n",
      "\n",
      "--------------------------------------------------\n",
      "\n",
      "--- Test 2: 'Looking for house music events next week' ---\n",
      "Recommendation:\n",
      "\"Hey! I've got some sick house music event recs for you! Next week, you should check out:\n",
      "\n",
      "* Final CUT - House, Hip Hop & Chart on 2025-08-27 at Egg London. This one's a no-brainer, it's got house music right in the title!\n",
      "* DESIRE - Weekly Thursday After Party on 2025-08-28 at Union Club, Vauxhall. This event looks like a house music lover's dream, with Carlos Martinez and other talented DJs spinning tracks\n",
      "* YOUR MUM'S HOUSE on 2025-08-28 at XOYO. This event has a fun vibe and is happening at XOYO, a popular spot for electronic music. It might not be strictly house music, but it's likely to have a great energy!\n",
      "\n",
      "Hope you find something you like! Let me know if you need more recs\"\n",
      "\n",
      "--------------------------------------------------\n",
      "\n",
      "--- Test 3: 'What's on tonight?' ---\n",
      "Recommendation:\n",
      "\"Hey! I've got some awesome events for you tonight! Here are my top picks:\n",
      "\n",
      "1. PARADOX - 2025-08-27T00:00:00+00:00 at XOYO | Artists: D1 x Samir (DVS), DEFILE, Suly Aslan\n",
      "This one's a must-check! It's happening tonight at XOYO with an amazing lineup of artists.\n",
      "\n",
      "2. Final CUT - House, Hip Hop & Chart - 2025-08-27T00:00:00+00:00 at Egg London\n",
      "If you're in the mood for a house, hip hop, and chart party, Final CUT at Egg London is the place to be!\n",
      "\n",
      "3. Profumo Events presents... Harrison Affair + Pluto's - 2025-08-27T00:00:00+00:00 at The Greyhound | Artists: Harrison Affair\n",
      "Another great option for tonight is Profumo Events at The Greyhound, featuring Harrison Affair and Pluto's.\n",
      "\n",
      "4. Lolahol - 2025-08-27T00:00:00+00:00 at Ormside Projects\n",
      "Lolahol at Ormside Projects is another fantastic event happening tonight - you won't want to miss it!\n",
      "\n",
      "5. OPEN DECKS - 2025-08-27T00:00:00+00:00 at Planet Wax\n",
      "Last but not least, OPEN DECKS at Planet Wax is a great way to spend your night, with an open deck event that's sure to be a blast!\n",
      "\n",
      "Hope you find something that suits your vibe!\"\n",
      "\n",
      "--------------------------------------------------\n",
      "\n",
      "--- Test 4: 'I like melodic electronic music' ---\n"
     ]
    }
   ],
   "execution_count": null
  }
 ],
 "metadata": {
  "kernelspec": {
   "display_name": "Python 3",
   "language": "python",
   "name": "python3"
  },
  "language_info": {
   "codemirror_mode": {
    "name": "ipython",
    "version": 2
   },
   "file_extension": ".py",
   "mimetype": "text/x-python",
   "name": "python",
   "nbconvert_exporter": "python",
   "pygments_lexer": "ipython2",
   "version": "2.7.6"
  }
 },
 "nbformat": 4,
 "nbformat_minor": 5
}

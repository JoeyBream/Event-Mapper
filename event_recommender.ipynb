{
 "cells": [
  {
   "cell_type": "code",
   "id": "initial_id",
   "metadata": {
    "collapsed": true,
    "ExecuteTime": {
     "end_time": "2025-09-02T13:42:33.865857Z",
     "start_time": "2025-09-02T13:42:32.560166Z"
    }
   },
   "source": [
    "import os\n",
    "import requests\n",
    "from supabase import create_client, Client\n",
    "from dotenv import load_dotenv\n",
    "from datetime import datetime, timedelta"
   ],
   "outputs": [],
   "execution_count": 1
  },
  {
   "metadata": {
    "ExecuteTime": {
     "end_time": "2025-09-02T16:28:07.901177Z",
     "start_time": "2025-09-02T16:27:57.812505Z"
    }
   },
   "cell_type": "code",
   "source": [
    "# Load environment variables\n",
    "load_dotenv()\n",
    "\n",
    "# Initialize clients\n",
    "GROQ_API_KEY = os.getenv('GROQ_API_KEY')\n",
    "GROQ_API_URL = \"https://api.groq.com/openai/v1/chat/completions\"\n",
    "\n",
    "supabase_url = os.getenv('SUPABASE_URL')\n",
    "supabase_key = os.getenv('SUPABASE_ANON_KEY')\n",
    "supabase: Client = create_client(supabase_url, supabase_key)\n"
   ],
   "id": "61a6ba3b12a339d0",
   "outputs": [
    {
     "name": "stdout",
     "output_type": "stream",
     "text": [
      "🎵 Event Recommender Test 🎵\n",
      "\n",
      "Fetching events from database...\n",
      "Found 13 events\n",
      "\n",
      "--- Test 1: 'I want to see some techno this weekend' ---\n",
      "Recommendation:\n",
      "\"Hey! I've got some sick techno recs for you this weekend! \n",
      "\n",
      "1. SNEAK RAVE on Sep 2nd at XOYO - This one's a no-brainer! A rave sounds like the perfect spot for some techno vibes \n",
      "\n",
      "2. Steely Dancing on Sep 2nd at Ridley Road Market Bar - This might not scream techno, but it's a great chance to discover some new sounds. Plus, it's on a Saturday!\n",
      "\n",
      "3. PARADOX on Sep 3rd at XOYO - Another XOYO event, another techno possibility! This one's on Sunday, so you've got a second chance to get your techno fix\n",
      "\n",
      "Hope you find something that gets you moving!\"\n",
      "\n",
      "--------------------------------------------------\n",
      "\n",
      "--- Test 2: 'Looking for house music events next week' ---\n",
      "Recommendation:\n",
      "\"Hey! I've got some sick house music event recs for you in London next week! \n",
      "\n",
      "1. Final CUT - House, Hip Hop & Chart on 2025-09-03 at Egg London - This one's a no-brainer, it's all about house music!\n",
      "2. Pure - Deep House for your Mind, Body & Soul on 2025-09-03 at The BBE Store - If you're into deep house, this is the spot!\n",
      "3. SNEAK RAVE on 2025-09-02 at XOYO - This one's a rave, so you know it's gonna be lit!\n",
      "\n",
      "Hope you find something you like! Let me know if you need more recs\"\n",
      "\n",
      "--------------------------------------------------\n",
      "\n",
      "--- Test 3: 'What's on tonight?' ---\n",
      "Recommendation:\n",
      "\"Hey! There are some awesome electronic music events happening tonight in London! Here are my top picks:\n",
      "\n",
      "* SNEAK RAVE at XOYO (tonight, 00:00) - This sounds like an epic rave party!\n",
      "* Ange Halliwell + Sarahsson + Y0GA at Cafe OTO (tonight, 00:00) - A great lineup of talented artists for a unique electronic music experience!\n",
      "* Steely Dancing at Ridley Road Market Bar (tonight, 00:00) - A fun night of dancing with a lively atmosphere!\n",
      "* Milkshake, Ministry Of Sound: London's Biggest Student Night at Ministry Of Sound (tonight, 00:00) - A massive student night with great vibes!\n",
      "* BOCR X Infernos: SUMMER FINALE at Infernos (tonight is not confirmed but 03/09 is the summer finale,  however 02/09 events are)  - Although summer finale is on 03/09  there are events on 02/09 \n",
      "\n",
      "Hope you find something that gets you moving! Have a great night!\"\n",
      "\n",
      "--------------------------------------------------\n",
      "\n",
      "--- Test 4: 'I like melodic electronic music' ---\n",
      "Recommendation:\n",
      "I've got some fab electronic music events in London that I think you'll love! Since you like melodic electronic music, here are my top picks:\n",
      "\n",
      "* Ange Halliwell + Sarahsson + Y0GA on 2nd Sep at Cafe OTO - This one looks amazing! Ange Halliwell and Sarahsson are known for their melodic and atmospheric sets, and Y0GA's style often blends emotive electronica with indie vibes. You won't want to miss it!\n",
      "* We Are Many on 3rd Sep at Bricks - This event could be a great fit, as it's likely to feature a range of melodic electronic sounds. The atmosphere at Bricks is always electric, and you can expect a high-energy night with like-minded people.\n",
      "* Pure - Deep House for your Mind, Body & Soul on 3rd Sep at The BBE Store - While this one focuses on deep house, it's often characterized by melodic and soulful sounds. Emma Champion and Farrah DJ are both talented DJs who'll keep you dancing all night!\n",
      "\n",
      "If you're up for something a bit more experimental, you might also enjoy AlgoRhythms on 3rd Sep at The Carpet Shop, featuring #pastagang and SYNTƏL8. Their unique sound could bring a fresh melodic electronic experience!\n",
      "\n",
      "Hope you find something that resonates with you!\n",
      "\n",
      "--------------------------------------------------\n",
      "\n"
     ]
    }
   ],
   "execution_count": 8
  },
  {
   "metadata": {
    "ExecuteTime": {
     "end_time": "2025-09-02T13:42:34.608628Z",
     "start_time": "2025-09-02T13:42:34.601048Z"
    }
   },
   "cell_type": "code",
   "outputs": [],
   "execution_count": 3,
   "source": [
    "def get_upcoming_events(days_ahead=7, limit=50):\n",
    "    \"\"\"\n",
    "    Fetch upcoming events from Supabase\n",
    "    \"\"\"\n",
    "    try:\n",
    "        # Calculate date range\n",
    "        start_date = datetime.now().strftime('%Y-%m-%d')\n",
    "        end_date = (datetime.now() + timedelta(days=days_ahead)).strftime('%Y-%m-%d')\n",
    "\n",
    "        # Query Supabase using correct column names\n",
    "        result = supabase.table('resident_advisor')\\\n",
    "            .select('*')\\\n",
    "            .gte('Date', start_date)\\\n",
    "            .lte('Date', end_date)\\\n",
    "            .limit(limit)\\\n",
    "            .execute()\n",
    "\n",
    "        return result.data\n",
    "    except Exception as e:\n",
    "        print(f\"Error fetching events: {e}\")\n",
    "        return []\n"
   ],
   "id": "6ff2ffb523472053"
  },
  {
   "metadata": {
    "ExecuteTime": {
     "end_time": "2025-09-02T13:42:35.566813Z",
     "start_time": "2025-09-02T13:42:34.616088Z"
    }
   },
   "cell_type": "code",
   "outputs": [],
   "execution_count": 4,
   "source": [
    "def format_events_for_llm(events):\n",
    "    \"\"\"\n",
    "    Format events data for the LLM prompt\n",
    "    \"\"\"\n",
    "    if not events:\n",
    "        return \"No events found for the specified dates.\"\n",
    "\n",
    "    formatted_events = []\n",
    "    for event in events[:30]:  # Limit to avoid token limits\n",
    "        # Using correct column names: Artists, Venue, Event name, Date\n",
    "        event_text = f\"• {event.get('Event name', 'N/A')}\"\n",
    "        if event.get('Date'):\n",
    "            event_text += f\" - {event.get('Date')}\"\n",
    "        if event.get('Venue'):\n",
    "            event_text += f\" at {event.get('Venue')}\"\n",
    "        if event.get('Artists'):\n",
    "            event_text += f\" | Artists: {event.get('Artists')}\"\n",
    "        formatted_events.append(event_text)\n",
    "\n",
    "    return \"\\n\".join(formatted_events)"
   ],
   "id": "e692a2f897713eb4"
  },
  {
   "metadata": {
    "ExecuteTime": {
     "end_time": "2025-09-02T16:54:21.131338Z",
     "start_time": "2025-09-02T16:54:21.096791Z"
    }
   },
   "cell_type": "code",
   "source": [
    "def generate_recommendations(user_request, events_data, context=None):\n",
    "    \"\"\"\n",
    "    Use Groq to generate event recommendations with user context\n",
    "    \"\"\"\n",
    "    # Build context information for the prompt\n",
    "    context_info = \"\"\n",
    "\n",
    "    if context:\n",
    "        # Add user's music preferences\n",
    "        if context.get('preferred_genres'):\n",
    "            genres = ', '.join(context['preferred_genres'])\n",
    "            context_info += f\"\\nUser's known music preferences: {genres}\"\n",
    "\n",
    "        # Add conversation history for continuity\n",
    "        if context.get('conversation_history'):\n",
    "            recent_history = context['conversation_history'][-4:]  # Last 2 exchanges\n",
    "            context_info += f\"\\nRecent conversation context: {'; '.join(recent_history)}\"\n",
    "\n",
    "        # First-time user greeting\n",
    "        if context.get('first_interaction', True):\n",
    "            context_info += \"\\nThis is the user's first interaction - introduce yourself as their music buddy!\"\n",
    "\n",
    "    prompt = f\"\"\"You are a helpful event recommender and the user's virtual music buddy. A user has made this request: \"{user_request}\"\n",
    "{context_info}\n",
    "\n",
    "Here are the upcoming electronic music events in London:\n",
    "\n",
    "{events_data}\n",
    "\n",
    "Be conversational and laid-back. You can:\n",
    "- Just chat about what they're looking for\n",
    "- Suggest 1-2 events max (not a whole list!)\n",
    "- Ask what they're in the mood for\n",
    "- Sometimes just be supportive without pushing events\n",
    "- Be attentive to what they actually want\n",
    "- Use occasional animal emojis naturally 🐨\n",
    "- Keep it short and friendly\n",
    "- The context is a whatsapp chat\n",
    "\n",
    "Don't be salesy or overwhelming. Match their energy.\"\"\"\n",
    "\n",
    "    try:\n",
    "        headers = {\n",
    "            \"Content-Type\": \"application/json\",\n",
    "            \"Authorization\": f\"Bearer {GROQ_API_KEY}\"\n",
    "        }\n",
    "\n",
    "        data = {\n",
    "            \"model\": \"meta-llama/llama-4-scout-17b-16e-instruct\",\n",
    "            \"messages\": [\n",
    "                {\"role\": \"system\", \"content\": \"You are a knowledgeable electronic music event recommender and virtual music buddy who remembers user preferences.\"},\n",
    "                {\"role\": \"user\", \"content\": prompt}\n",
    "            ],\n",
    "            \"max_tokens\": 500,\n",
    "            \"temperature\": 0.7\n",
    "        }\n",
    "\n",
    "        response = requests.post(GROQ_API_URL, headers=headers, json=data)\n",
    "        response.raise_for_status()\n",
    "\n",
    "        return response.json()[\"choices\"][0][\"message\"][\"content\"]\n",
    "    except Exception as e:\n",
    "        return f\"Error generating recommendations 🐨: {e}\""
   ],
   "id": "a0412825f719199c",
   "outputs": [],
   "execution_count": 12
  },
  {
   "metadata": {
    "ExecuteTime": {
     "end_time": "2025-09-02T13:42:36.883808Z",
     "start_time": "2025-09-02T13:42:36.188050Z"
    }
   },
   "cell_type": "code",
   "outputs": [],
   "execution_count": 6,
   "source": [
    "def main():\n",
    "    \"\"\"\n",
    "    Main function to test the recommender\n",
    "    \"\"\"\n",
    "    print(\"🎵 Event Recommender Test 🎵\\n\")\n",
    "\n",
    "    # Test user requests\n",
    "    test_requests = [\n",
    "        \"I want to see some techno this weekend\",\n",
    "  #      \"Looking for house music events next week\",\n",
    " #       \"What's on tonight?\",\n",
    "#        \"I like melodic electronic music\"\n",
    "    ]\n",
    "\n",
    "    # Fetch events\n",
    "    print(\"Fetching events from database...\")\n",
    "    events = get_upcoming_events()\n",
    "    print(f\"Found {len(events)} events\\n\")\n",
    "\n",
    "    if not events:\n",
    "        print(\"No events found. Check your database connection and data.\")\n",
    "        return\n",
    "\n",
    "    # Format events for LLM\n",
    "    events_text = format_events_for_llm(events)\n",
    "\n",
    "    # Test each request\n",
    "    for i, request in enumerate(test_requests, 1):\n",
    "        print(f\"--- Test {i}: '{request}' ---\")\n",
    "\n",
    "        recommendation = generate_recommendations(request, events_text)\n",
    "        print(f\"Recommendation:\\n{recommendation}\\n\")\n",
    "        print(\"-\" * 50 + \"\\n\")\n"
   ],
   "id": "425d51de781ef46e"
  },
  {
   "metadata": {
    "ExecuteTime": {
     "end_time": "2025-09-02T13:42:42.874678Z",
     "start_time": "2025-09-02T13:42:36.900037Z"
    }
   },
   "cell_type": "code",
   "source": [
    "if __name__ == \"__main__\":\n",
    "    main()"
   ],
   "id": "31b8667b645c4e9d",
   "outputs": [
    {
     "name": "stdout",
     "output_type": "stream",
     "text": [
      "🎵 Event Recommender Test 🎵\n",
      "\n",
      "Fetching events from database...\n",
      "Found 13 events\n",
      "\n",
      "--- Test 1: 'I want to see some techno this weekend' ---\n",
      "Recommendation:\n",
      "\"Hey! I've got some sick techno recs for you this weekend! Here are my top picks:\n",
      "\n",
      "* SNEAK RAVE on Sep 2nd at XOYO - This one's a no-brainer! A sneak rave is all about underground vibes and techno beats. You won't wanna miss it!\n",
      "* Steely Dancing on Sep 2nd at Ridley Road Market Bar - This event might not scream techno, but trust me, it's a great chance to dance the night away with some awesome tunes. Plus, it's on a Sunday, so you can recover from the night before \n",
      "* PARADOX on Sep 3rd at XOYO - Another XOYO event, another techno rave! PARADOX is likely to feature some of the best techno DJs in London.\n",
      "\n",
      "Hope you find something that gets you moving!\"\n",
      "\n",
      "--------------------------------------------------\n",
      "\n",
      "--- Test 2: 'Looking for house music events next week' ---\n",
      "Recommendation:\n",
      "\"Hey! I've got some sick house music event recs for you in London next week! \n",
      "\n",
      "1. Final CUT - House, Hip Hop & Chart on 2025-09-03 at Egg London - This one's a no-brainer! It's got 'House' right in the title \n",
      "2. Pure - Deep House for your Mind, Body & Soul on 2025-09-03 at The BBE Store - If you're into deep house, this is the spot! \n",
      "3. SNEAK RAVE on 2025-09-02 at XOYO - This one's a rave, so you know it's gonna be a wild house music party!\n",
      "\n",
      "Hope you find something you like!\"\n",
      "\n",
      "--------------------------------------------------\n",
      "\n",
      "--- Test 3: 'What's on tonight?' ---\n",
      "Recommendation:\n",
      "\"Hey! There are some awesome electronic music events happening tonight in London! Here are my top picks:\n",
      "\n",
      "* SNEAK RAVE on Sep 2 at XOYO - This one's a no-brainer! A sneak rave sounds like an exciting and spontaneous way to spend the night.\n",
      "* Ange Halliwell + Sarahsson + Y0GA on Sep 2 at Cafe OTO - If you're in the mood for something a bit more underground and experimental, this event with Ange Halliwell, Sarahsson, and Y0GA is a great choice.\n",
      "* Steely Dancing on Sep 2 at Ridley Road Market Bar - Looking for a fun night out with a dash of dancing? Steely Dancing is a great option!\n",
      "\n",
      "These events are all happening tonight, so you've got plenty of options to choose from! Hope you find something that suits your vibe\"\n",
      "\n",
      "--------------------------------------------------\n",
      "\n",
      "--- Test 4: 'I like melodic electronic music' ---\n",
      "Recommendation:\n",
      "I've got some fab recs for you! Since you love melodic electronic music, here are my top picks:\n",
      "\n",
      "* Ange Halliwell + Sarahsson + Y0GA on Sep 2 at Cafe OTO - This one sounds perfect! Ange Halliwell & Sarahsson are known for their melodic vibes, and Y0GA will likely bring the energy\n",
      "* PARADE (LIVE) + SPECIAL GUESTS on Sep 3 at Next Door Records Two - PARADE is often associated with melodic & euphoric sounds, so this could be a great fit!\n",
      "* Pure - Deep House for your Mind, Body & Soul on Sep 3 at The BBE Store - Although it's a deep house event, it might still feature some melodic elements. Emma Champion & Farrah DJ are talented artists who could deliver a great set\n",
      "\n",
      "If you're open to exploring other options, you could also consider We Are Many on Sep 3 at Bricks or AlgoRhythms on Sep 3 at The Carpet Shop - both have a chance of featuring melodic electronic sounds!\n",
      "\n",
      "Hope you find something that resonates with you!\n",
      "\n",
      "--------------------------------------------------\n",
      "\n"
     ]
    }
   ],
   "execution_count": 7
  }
 ],
 "metadata": {
  "kernelspec": {
   "display_name": "Python 3",
   "language": "python",
   "name": "python3"
  },
  "language_info": {
   "codemirror_mode": {
    "name": "ipython",
    "version": 2
   },
   "file_extension": ".py",
   "mimetype": "text/x-python",
   "name": "python",
   "nbconvert_exporter": "python",
   "pygments_lexer": "ipython2",
   "version": "2.7.6"
  }
 },
 "nbformat": 4,
 "nbformat_minor": 5
}

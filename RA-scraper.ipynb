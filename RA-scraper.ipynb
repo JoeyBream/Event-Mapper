{
 "cells": [
  {
   "metadata": {},
   "cell_type": "markdown",
   "source": "Get Resident Advisor files, using @dirkjbreeuwer repo. \"resident-advisor-events-scraper\"",
   "id": "a7a0882dca04933d"
  },
  {
   "metadata": {
    "ExecuteTime": {
     "end_time": "2025-08-21T15:01:03.199862Z",
     "start_time": "2025-08-21T15:00:40.559463Z"
    }
   },
   "cell_type": "code",
   "source": [
    "# Notebook cell\n",
    "\n",
    "import os\n",
    "from resident_advisor_events_scraper.event_fetcher import EventFetcher\n",
    "from datetime import datetime\n",
    "\n",
    "# ---------- OUTPUT ------------\n",
    "os.makedirs(\"upcoming_events\", exist_ok=True)\n",
    "output_file = os.path.join(os.getcwd(), \"upcoming_events\", \"ra_events.csv\")\n",
    "\n",
    "# ---------- PARAMETERS ----------\n",
    "area_code = 13\n",
    "start_date = \"2025-08-21\"\n",
    "end_date = \"2025-08-23\"\n",
    "listing_date_gte = f\"{start_date}T00:00:00.000Z\"\n",
    "listing_date_lte = f\"{end_date}T23:59:59.999Z\"\n",
    "\n",
    "# ---------- INITIALISE FETCHER ----------\n",
    "fetcher = EventFetcher(area_code, listing_date_gte, listing_date_lte)\n",
    "\n",
    "# ---------- FETCH EVENTS ----------\n",
    "all_events = fetcher.fetch_all_events()\n",
    "\n",
    "# ---------- SAVE TO CSV ----------\n",
    "fetcher.save_events_to_csv(all_events, output_file)\n",
    "\n",
    "print(f\"Saved {len(all_events)} events to {output_file}\")\n"
   ],
   "id": "2c7cb4f5cdfa6b04",
   "outputs": [
    {
     "name": "stdout",
     "output_type": "stream",
     "text": [
      "Saved 248 events to C:\\Users\\ADMIN\\OneDrive\\Documents\\Github\\Event-Mapper\\resident_advisor_events_scraper\\upcoming_events\\ra_events.csv\n"
     ]
    }
   ],
   "execution_count": 33
  }
 ],
 "metadata": {
  "kernelspec": {
   "display_name": "Python 3",
   "language": "python",
   "name": "python3"
  },
  "language_info": {
   "codemirror_mode": {
    "name": "ipython",
    "version": 2
   },
   "file_extension": ".py",
   "mimetype": "text/x-python",
   "name": "python",
   "nbconvert_exporter": "python",
   "pygments_lexer": "ipython2",
   "version": "2.7.6"
  }
 },
 "nbformat": 4,
 "nbformat_minor": 5
}
